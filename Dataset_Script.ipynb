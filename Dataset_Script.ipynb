{
 "cells": [
  {
   "cell_type": "markdown",
   "metadata": {},
   "source": [
    "## Script to make Dataset"
   ]
  },
  {
   "cell_type": "code",
   "execution_count": 1,
   "metadata": {},
   "outputs": [
    {
     "name": "stdout",
     "output_type": "stream",
     "text": [
      "مرحبًا.\tHi.\n",
      "اركض!\tRun!\n",
      "النجدة!\tHelp!\n",
      "اقفز!\tJump!\n",
      "قف!\tStop!\n",
      "داوم.\tGo on.\n",
      "استمر.\tGo on.\n",
      "مرحباً.\tHello!\n",
      "تعجّل!\tHurry!\n",
      "استعجل!\tHurry!\n",
      "انا اري\tI see.\n",
      "أنا فُزت!\tI won!\n",
      "استرح.\tRelax.\n",
      "ابتسم.\tSmile.\n",
      "في صحتك.\tCheers!\n",
      "هل فهمت؟\tGot it?\n",
      "ركض.\tHe ran.\n",
      "أعرف.\tI know.\n",
      "أعلم ذلك.\tI know.\n",
      "أنا أعلم\tI know.\n",
      "أنا في 19\tI'm 19.\n",
      "أنا بخير.\tI'm OK.\n",
      "استمع\tListen.\n",
      "غير معقول!\tNo way!\n",
      "حقاً؟\tReally?\n",
      "شكرا.\tThanks.\n",
      "لماذا أنا؟\tWhy me?\n",
      "رائع!\tAwesome!\n",
      "خذ راحتك.\tBe cool.\n",
      "هاتفني.\tCall me.\n",
      "اتصل بي.\tCall me.\n",
      "تفضل بالدخول.\tCome in.\n",
      "تعال إلى الداخل\tCome in.\n",
      "بالله عليك!\tCome on!\n",
      "هيا\tCome on!\n",
      "هيّا\tCome on!\n",
      "اخرج من هنا!\tGet out!\n",
      "أُخرج!\tGet out!\n",
      "اخرج!\tGet out.\n",
      "اتركني و شأني.\tGo away.\n",
      "\n"
     ]
    }
   ],
   "source": [
    "import re\n",
    "import requests\n",
    "from bs4 import BeautifulSoup\n",
    "\n",
    "language='ara'\n",
    "output=\"\";\n",
    "for i in range(1,2): \n",
    "    headers ={'User-Agent': 'Mozilla/5.0 (Macintosh; Intel Mac OS X 10.12; rv:55.0) Gecko/20100101 Firefox/55.0',}\n",
    "    url = 'http://www.manythings.org/bilingual/'+language+'/'+str(i)+'.js'\n",
    "    response = requests.get(url,headers=headers)\n",
    "    data = str(BeautifulSoup(response.content,\"lxml\"))\n",
    "    data = re.findall(r'\"(.*?)\"', data)\n",
    "    for line in data:\n",
    "        if(len(line)):\n",
    "            sent = line.split('\\t')\n",
    "            output = output + sent[2] + \"\\t\" +sent[4] + \"\\n\"\n",
    "print(output) \n",
    "with open('arabic.txt','a',encoding=\"utf-8\") as f:\n",
    "    f.write(output)"
   ]
  }
 ],
 "metadata": {
  "kernelspec": {
   "display_name": "Python 3",
   "language": "python",
   "name": "python3"
  },
  "language_info": {
   "codemirror_mode": {
    "name": "ipython",
    "version": 3
   },
   "file_extension": ".py",
   "mimetype": "text/x-python",
   "name": "python",
   "nbconvert_exporter": "python",
   "pygments_lexer": "ipython3",
   "version": "3.7.6"
  }
 },
 "nbformat": 4,
 "nbformat_minor": 4
}
